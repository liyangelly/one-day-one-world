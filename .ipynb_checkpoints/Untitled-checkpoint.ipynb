{
 "cells": [
  {
   "cell_type": "markdown",
   "metadata": {},
   "source": [
    "# 尊重自己 学徒精神 最高的自由是自律\n",
    "现在很多人没有自由的原因，包括财富自由、精神自由、身体自由的很大原因是因为不自律 杰克威林克\n",
    "\n",
    "> **形成一个系统**\n",
    "\n",
    "**进攻，而不是待在原地，等待别人递给你什么然后你就去做什么**\n",
    "\n",
    "生活是自己的，不能因为不能选择而别无选择。\n",
    "\n",
    ">**如果一味抱怨生活，生活最后会给你什么**\n",
    "\n",
    "古代的时候，想要学习新的技能，都要去拜师学艺，做了学徒之后基本上师傅家的什么事情都要去做，这样做师傅的小跟班几年之后才能够出师。而今天我们在公司工作，年轻的我们或许会被别惹低估能力，做出来的成果被别人拿去炫耀，这个时候我们就毛了，为什么自己会遭遇到这样不公平的待遇。大学里的研究生自己的研究成果很多直接被导师拿去发表，而自己的名字连上论文的封面都没资格，这样不公正的待遇，你会怎么看？\n",
    "\n",
    ">**决定自己要什么，而不能做一个成就感从外界而来的人**\n",
    "\n",
    "在公司中，邮箱里的事情、领导指派的任务都是这个世界在要求你做什么？而不是你主动想要从这份工作中获得什么？\n",
    "\n",
    ">**你真正需要的是什么**\n",
    "\n"
   ]
  },
  {
   "cell_type": "code",
   "execution_count": null,
   "metadata": {},
   "outputs": [],
   "source": []
  }
 ],
 "metadata": {
  "kernelspec": {
   "display_name": "Python 3",
   "language": "python",
   "name": "python3"
  },
  "language_info": {
   "codemirror_mode": {
    "name": "ipython",
    "version": 3
   },
   "file_extension": ".py",
   "mimetype": "text/x-python",
   "name": "python",
   "nbconvert_exporter": "python",
   "pygments_lexer": "ipython3",
   "version": "3.7.3"
  }
 },
 "nbformat": 4,
 "nbformat_minor": 2
}
